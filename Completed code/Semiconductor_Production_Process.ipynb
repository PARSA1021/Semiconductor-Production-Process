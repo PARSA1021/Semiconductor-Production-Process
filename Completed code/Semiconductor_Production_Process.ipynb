{
  "nbformat": 4,
  "nbformat_minor": 0,
  "metadata": {
    "colab": {
      "private_outputs": true,
      "provenance": []
    },
    "kernelspec": {
      "name": "python3",
      "display_name": "Python 3"
    },
    "language_info": {
      "name": "python"
    }
  },
  "cells": [
    {
      "cell_type": "code",
      "source": [
        "import warnings\n",
        "warnings.filterwarnings(\"ignore\", category=DeprecationWarning)"
      ],
      "metadata": {
        "id": "HIZb4dZti35-"
      },
      "execution_count": null,
      "outputs": []
    },
    {
      "cell_type": "markdown",
      "source": [
        "# **Import Data**"
      ],
      "metadata": {
        "id": "-Nr296z7dW4x"
      }
    },
    {
      "cell_type": "code",
      "execution_count": null,
      "metadata": {
        "id": "kYF-dAPh575v"
      },
      "outputs": [],
      "source": [
        "from google.colab import drive\n",
        "drive.mount('/content/gdrive')"
      ]
    },
    {
      "cell_type": "code",
      "source": [
        "import pandas as pd\n",
        "import numpy as np\n",
        "import matplotlib.pyplot as plt\n",
        "import plotly.express as px\n",
        "import seaborn as sns"
      ],
      "metadata": {
        "id": "_VrVu3C96jIT"
      },
      "execution_count": null,
      "outputs": []
    },
    {
      "cell_type": "code",
      "source": [
        "df = pd.read_csv(\"/content/gdrive/MyDrive/ML,DL datasets/Semiconductor Dataset/fab.csv\")"
      ],
      "metadata": {
        "id": "A-MATF_F6uDR"
      },
      "execution_count": null,
      "outputs": []
    },
    {
      "cell_type": "markdown",
      "source": [
        "# **Data Information**"
      ],
      "metadata": {
        "id": "8lpgS0SYnSDO"
      }
    },
    {
      "cell_type": "code",
      "source": [
        "df.info()"
      ],
      "metadata": {
        "id": "BdpyFTHInWnF"
      },
      "execution_count": null,
      "outputs": []
    },
    {
      "cell_type": "code",
      "source": [
        "df.dtypes"
      ],
      "metadata": {
        "id": "h38FZyY7nGsT"
      },
      "execution_count": null,
      "outputs": []
    },
    {
      "cell_type": "code",
      "source": [
        "df"
      ],
      "metadata": {
        "id": "xgUL1Z3lnhjC"
      },
      "execution_count": null,
      "outputs": []
    },
    {
      "cell_type": "code",
      "source": [
        "df.head()"
      ],
      "metadata": {
        "id": "o1GFvg8_nVJQ"
      },
      "execution_count": null,
      "outputs": []
    },
    {
      "cell_type": "code",
      "source": [
        "df.tail()"
      ],
      "metadata": {
        "id": "uH0Pgv38na7z"
      },
      "execution_count": null,
      "outputs": []
    },
    {
      "cell_type": "code",
      "source": [
        "df.describe()"
      ],
      "metadata": {
        "id": "y5Ark4plnb6k"
      },
      "execution_count": null,
      "outputs": []
    },
    {
      "cell_type": "markdown",
      "source": [
        "# **Data Visualization**"
      ],
      "metadata": {
        "id": "zDPGiYEbptis"
      }
    },
    {
      "cell_type": "code",
      "source": [
        "df['Pass_Fail'].value_counts()"
      ],
      "metadata": {
        "id": "qiDGJJfPnoM-"
      },
      "execution_count": null,
      "outputs": []
    },
    {
      "cell_type": "code",
      "source": [
        "plt.figure(figsize=(10,10))\n",
        "sns.countplot('Pass_Fail',data = df)"
      ],
      "metadata": {
        "id": "so1rZbILoS1V"
      },
      "execution_count": null,
      "outputs": []
    },
    {
      "cell_type": "code",
      "source": [
        "plt.figure(figsize=(10,10))\n",
        "plt.title('Pass_Fail Ratio')\n",
        "df['Pass_Fail'].value_counts().plot.pie(explode=(0,0.2),autopct='%1.f%%',shadow=True)"
      ],
      "metadata": {
        "id": "mC9WFxDDoBL7"
      },
      "execution_count": null,
      "outputs": []
    },
    {
      "cell_type": "code",
      "source": [
        "px.scatter(df,x='SensorTime',y='Sensor0',color='Pass_Fail',template='plotly_dark')"
      ],
      "metadata": {
        "id": "P1PKxk-St5tp"
      },
      "execution_count": null,
      "outputs": []
    },
    {
      "cell_type": "markdown",
      "source": [
        "# **Data Missing Value Processing**"
      ],
      "metadata": {
        "id": "wys_83gV3Flz"
      }
    },
    {
      "cell_type": "code",
      "source": [
        "df = df.drop(['SensorTime'],axis = 1)"
      ],
      "metadata": {
        "id": "57uNsmpi3FCT"
      },
      "execution_count": null,
      "outputs": []
    },
    {
      "cell_type": "code",
      "source": [
        "for idx,val in enumerate(df.isna().mean()*100):\n",
        "  print(f\"{idx} columns Missing Value Ratio = {val: .1f}%\")"
      ],
      "metadata": {
        "id": "w2CTPDqZwpq-"
      },
      "execution_count": null,
      "outputs": []
    },
    {
      "cell_type": "code",
      "source": [
        "missing_value = df.columns[df.isna().mean()>0.7]"
      ],
      "metadata": {
        "id": "XRclwJWl4U3K"
      },
      "execution_count": null,
      "outputs": []
    },
    {
      "cell_type": "code",
      "source": [
        "df = df.drop(missing_value,axis = 1)"
      ],
      "metadata": {
        "id": "4aJ_F-Lh474o"
      },
      "execution_count": null,
      "outputs": []
    },
    {
      "cell_type": "code",
      "source": [
        "for column in df.columns:\n",
        "  df[column] = df[column].fillna(df[column].mean())"
      ],
      "metadata": {
        "id": "BR_PsB4O5Bch"
      },
      "execution_count": null,
      "outputs": []
    },
    {
      "cell_type": "code",
      "source": [
        "df.isna().sum()"
      ],
      "metadata": {
        "id": "vi2S00up5Z7C"
      },
      "execution_count": null,
      "outputs": []
    },
    {
      "cell_type": "code",
      "source": [
        "df.isna().mean()"
      ],
      "metadata": {
        "id": "zVYjUv175iJ-"
      },
      "execution_count": null,
      "outputs": []
    },
    {
      "cell_type": "markdown",
      "source": [
        "# **Remove Collinear Features**"
      ],
      "metadata": {
        "id": "y1rVs1JG5ygp"
      }
    },
    {
      "cell_type": "code",
      "source": [
        "plt.figure(figsize=(10,10))\n",
        "sns.heatmap(df.corr(),cmap = 'summer_r')"
      ],
      "metadata": {
        "id": "igtvMYtD_DQI"
      },
      "execution_count": null,
      "outputs": []
    },
    {
      "cell_type": "code",
      "source": [
        "corr_matrix = df.corr().abs()"
      ],
      "metadata": {
        "id": "RN_g3da36DKj"
      },
      "execution_count": null,
      "outputs": []
    },
    {
      "cell_type": "code",
      "source": [
        "print(corr_matrix)"
      ],
      "metadata": {
        "id": "7z2DTSuK6iQ9"
      },
      "execution_count": null,
      "outputs": []
    },
    {
      "cell_type": "code",
      "source": [
        "up_tr = corr_matrix.where(np.triu(np.ones(corr_matrix.shape),k = 1).astype(np.bool_))"
      ],
      "metadata": {
        "id": "n3W0rlgk6mwb"
      },
      "execution_count": null,
      "outputs": []
    },
    {
      "cell_type": "code",
      "source": [
        "print(up_tr)"
      ],
      "metadata": {
        "id": "CPxPZgUM632T"
      },
      "execution_count": null,
      "outputs": []
    },
    {
      "cell_type": "code",
      "source": [
        "to_drop = [column for column in up_tr.columns if any(up_tr[column]>0.75)]"
      ],
      "metadata": {
        "id": "6Wsp_w-S7BA7"
      },
      "execution_count": null,
      "outputs": []
    },
    {
      "cell_type": "code",
      "source": [
        "print(); print(to_drop)"
      ],
      "metadata": {
        "id": "EyPZeWnj7RZq"
      },
      "execution_count": null,
      "outputs": []
    },
    {
      "cell_type": "code",
      "source": [
        "column = ['Sensor17', 'Sensor26', 'Sensor27', 'Sensor30', 'Sensor35', 'Sensor36', 'Sensor39', 'Sensor46', 'Sensor50', 'Sensor54', 'Sensor60', 'Sensor65', 'Sensor66', 'Sensor70', 'Sensor73', 'Sensor96', 'Sensor98', 'Sensor101', 'Sensor104', 'Sensor105', 'Sensor106', 'Sensor123', 'Sensor124', 'Sensor127', 'Sensor130', 'Sensor140', 'Sensor147', 'Sensor148', 'Sensor152', 'Sensor154', 'Sensor155', 'Sensor163', 'Sensor164', 'Sensor165', 'Sensor174', 'Sensor187', 'Sensor196', 'Sensor197', 'Sensor199', 'Sensor202', 'Sensor203', 'Sensor204', 'Sensor205', 'Sensor206', 'Sensor207', 'Sensor209', 'Sensor244', 'Sensor245', 'Sensor246', 'Sensor249', 'Sensor252', 'Sensor254', 'Sensor270', 'Sensor271', 'Sensor272', 'Sensor273', 'Sensor274', 'Sensor275', 'Sensor277', 'Sensor278', 'Sensor279', 'Sensor280', 'Sensor281', 'Sensor282', 'Sensor283', 'Sensor285', 'Sensor286', 'Sensor287', 'Sensor288', 'Sensor289', 'Sensor290', 'Sensor291', 'Sensor294', 'Sensor295', 'Sensor296', 'Sensor297', 'Sensor298', 'Sensor299', 'Sensor300', 'Sensor301', 'Sensor302', 'Sensor303', 'Sensor304', 'Sensor305', 'Sensor306', 'Sensor307', 'Sensor308', 'Sensor309', 'Sensor310', 'Sensor311', 'Sensor312', 'Sensor316', 'Sensor317', 'Sensor318', 'Sensor319', 'Sensor320', 'Sensor321', 'Sensor323', 'Sensor324', 'Sensor331', 'Sensor332', 'Sensor333', 'Sensor334', 'Sensor335', 'Sensor336', 'Sensor337', 'Sensor338', 'Sensor339', 'Sensor340', 'Sensor341', 'Sensor342', 'Sensor343', 'Sensor344', 'Sensor345', 'Sensor346', 'Sensor347', 'Sensor348', 'Sensor349', 'Sensor350', 'Sensor351', 'Sensor352', 'Sensor353', 'Sensor354', 'Sensor355', 'Sensor356', 'Sensor357', 'Sensor359', 'Sensor360', 'Sensor361', 'Sensor362', 'Sensor363', 'Sensor365', 'Sensor366', 'Sensor368', 'Sensor376', 'Sensor377', 'Sensor382', 'Sensor383', 'Sensor384', 'Sensor385', 'Sensor386', 'Sensor387', 'Sensor388', 'Sensor389', 'Sensor390', 'Sensor391', 'Sensor392', 'Sensor393', 'Sensor405', 'Sensor406', 'Sensor407', 'Sensor408', 'Sensor409', 'Sensor410', 'Sensor411', 'Sensor412', 'Sensor413', 'Sensor415', 'Sensor416', 'Sensor417', 'Sensor420', 'Sensor421', 'Sensor424', 'Sensor425', 'Sensor426', 'Sensor427', 'Sensor428', 'Sensor429', 'Sensor430', 'Sensor431', 'Sensor434', 'Sensor435', 'Sensor436', 'Sensor437', 'Sensor439', 'Sensor440', 'Sensor441', 'Sensor442', 'Sensor443', 'Sensor444', 'Sensor445', 'Sensor446', 'Sensor447', 'Sensor448', 'Sensor452', 'Sensor453', 'Sensor454', 'Sensor455', 'Sensor456', 'Sensor457', 'Sensor459', 'Sensor467', 'Sensor469', 'Sensor470', 'Sensor471', 'Sensor473', 'Sensor474', 'Sensor475', 'Sensor477', 'Sensor478', 'Sensor479', 'Sensor480', 'Sensor490', 'Sensor491', 'Sensor493', 'Sensor494', 'Sensor495', 'Sensor496', 'Sensor497', 'Sensor516', 'Sensor517', 'Sensor518', 'Sensor519', 'Sensor520', 'Sensor522', 'Sensor523', 'Sensor524', 'Sensor525', 'Sensor526', 'Sensor527', 'Sensor539', 'Sensor540', 'Sensor541', 'Sensor545', 'Sensor552', 'Sensor553', 'Sensor554', 'Sensor555', 'Sensor556', 'Sensor557', 'Sensor560', 'Sensor561', 'Sensor566', 'Sensor567', 'Sensor568', 'Sensor569', 'Sensor573', 'Sensor574', 'Sensor575', 'Sensor576', 'Sensor577', 'Sensor580', 'Sensor584', 'Sensor585', 'Sensor588']"
      ],
      "metadata": {
        "id": "pTCVd3xE9kP8"
      },
      "execution_count": null,
      "outputs": []
    },
    {
      "cell_type": "code",
      "source": [
        "df = df.drop(column,axis = 1)"
      ],
      "metadata": {
        "id": "GBZOCqJF9mMH"
      },
      "execution_count": null,
      "outputs": []
    },
    {
      "cell_type": "code",
      "source": [
        "df.info()"
      ],
      "metadata": {
        "id": "NuBxuanV9p3T"
      },
      "execution_count": null,
      "outputs": []
    },
    {
      "cell_type": "code",
      "source": [
        "plt.figure(figsize=(10,10))\n",
        "sns.heatmap(df.corr(),cmap = 'summer_r')"
      ],
      "metadata": {
        "id": "GpzB3jTj-J1K"
      },
      "execution_count": null,
      "outputs": []
    },
    {
      "cell_type": "markdown",
      "source": [
        "# **Data Split**"
      ],
      "metadata": {
        "id": "q35uJoeugI6S"
      }
    },
    {
      "cell_type": "code",
      "source": [
        "df.shape"
      ],
      "metadata": {
        "id": "ttC1vxAxgSzL"
      },
      "execution_count": null,
      "outputs": []
    },
    {
      "cell_type": "code",
      "source": [
        "x = df.iloc[:,:337]\n",
        "y = df['Pass_Fail']"
      ],
      "metadata": {
        "id": "dFpm5C4Ng_G7"
      },
      "execution_count": null,
      "outputs": []
    },
    {
      "cell_type": "code",
      "source": [
        "print(\"shape of x:\", x.shape)\n",
        "print(\"shape of y:\", y.shape)"
      ],
      "metadata": {
        "id": "x_Th_8yyhdHo"
      },
      "execution_count": null,
      "outputs": []
    },
    {
      "cell_type": "code",
      "source": [
        "from sklearn.model_selection import train_test_split"
      ],
      "metadata": {
        "id": "5hH5aeTLhfzm"
      },
      "execution_count": null,
      "outputs": []
    },
    {
      "cell_type": "code",
      "source": [
        "x_train, x_test, y_train, y_test = train_test_split(x, y, test_size = 0.3, random_state = 1)"
      ],
      "metadata": {
        "id": "O0kXV0JChqbd"
      },
      "execution_count": null,
      "outputs": []
    },
    {
      "cell_type": "code",
      "source": [
        "print(\"shape of x_train: \", x_train.shape)\n",
        "print(\"shape of x_test: \", x_test.shape)\n",
        "print(\"shape of y_train: \", y_train.shape)\n",
        "print(\"shape of y_test: \", y_test.shape)"
      ],
      "metadata": {
        "id": "ZzzJ4PHWiK7q"
      },
      "execution_count": null,
      "outputs": []
    },
    {
      "cell_type": "markdown",
      "source": [
        "# **Data Standardization**"
      ],
      "metadata": {
        "id": "tJKRiaOIiQrD"
      }
    },
    {
      "cell_type": "code",
      "source": [
        "from sklearn.preprocessing import StandardScaler"
      ],
      "metadata": {
        "id": "fBBXxBXziYyy"
      },
      "execution_count": null,
      "outputs": []
    },
    {
      "cell_type": "code",
      "source": [
        "sc = StandardScaler()"
      ],
      "metadata": {
        "id": "Utzm6tShikDx"
      },
      "execution_count": null,
      "outputs": []
    },
    {
      "cell_type": "code",
      "source": [
        "x_train = sc.fit_transform (x_train)\n",
        "x_test = sc.transform (x_test)"
      ],
      "metadata": {
        "id": "tRVnrE3wincs"
      },
      "execution_count": null,
      "outputs": []
    },
    {
      "cell_type": "markdown",
      "source": [
        "# **RandomForestClassifier**"
      ],
      "metadata": {
        "id": "w-_qJfddyLMD"
      }
    },
    {
      "cell_type": "code",
      "source": [
        "from sklearn.metrics import confusion_matrix,accuracy_score"
      ],
      "metadata": {
        "id": "Zp41gjrYyfaL"
      },
      "execution_count": null,
      "outputs": []
    },
    {
      "cell_type": "code",
      "source": [
        "from sklearn.ensemble import RandomForestClassifier"
      ],
      "metadata": {
        "id": "p2CPAn1-yYl7"
      },
      "execution_count": null,
      "outputs": []
    },
    {
      "cell_type": "code",
      "source": [
        "model = RandomForestClassifier(n_estimators = 200, random_state= 1, verbose = 1)\n",
        "model.fit(x_train,y_train)\n",
        "y_pred = model.predict(x_test)"
      ],
      "metadata": {
        "id": "mqVuw5yQyjqg"
      },
      "execution_count": null,
      "outputs": []
    },
    {
      "cell_type": "code",
      "source": [
        "cm = confusion_matrix(y_test,y_pred)\n",
        "plt.figure(figsize=(5,5))\n",
        "sns.heatmap(cm,annot = True, annot_kws = {\"size\":15})"
      ],
      "metadata": {
        "id": "2a6fUnzlzRav"
      },
      "execution_count": null,
      "outputs": []
    },
    {
      "cell_type": "code",
      "source": [
        "print('Accuracy: ',model.score(x_test,y_test)*100)"
      ],
      "metadata": {
        "id": "0dSkN-bM0JNr"
      },
      "execution_count": null,
      "outputs": []
    },
    {
      "cell_type": "markdown",
      "source": [
        "# **LogisticRegression**"
      ],
      "metadata": {
        "id": "66DBMhHJ0gU-"
      }
    },
    {
      "cell_type": "code",
      "source": [
        "from sklearn.linear_model import LogisticRegression"
      ],
      "metadata": {
        "id": "puwQyj6g0jwU"
      },
      "execution_count": null,
      "outputs": []
    },
    {
      "cell_type": "code",
      "source": [
        "LR = LogisticRegression(random_state = 1)\n",
        "LR.fit(x_train, y_train)\n",
        "y_pred = LR.predict(x_test)"
      ],
      "metadata": {
        "id": "eXsUtH790zqr"
      },
      "execution_count": null,
      "outputs": []
    },
    {
      "cell_type": "code",
      "source": [
        "cm = confusion_matrix(y_test,y_pred)\n",
        "plt.figure(figsize=(5,5))\n",
        "sns.heatmap(cm,annot = True, annot_kws = {\"size\":15})"
      ],
      "metadata": {
        "id": "Q79_i5l-1Es-"
      },
      "execution_count": null,
      "outputs": []
    },
    {
      "cell_type": "code",
      "source": [
        "print('Accuracy: ',LR.score(x_test,y_test)*100)"
      ],
      "metadata": {
        "id": "3owqWJp01L9J"
      },
      "execution_count": null,
      "outputs": []
    },
    {
      "cell_type": "markdown",
      "source": [
        "# **GradientBoostingClassifier**"
      ],
      "metadata": {
        "id": "zn3pbSYQPQAb"
      }
    },
    {
      "cell_type": "code",
      "source": [
        "from sklearn.ensemble import GradientBoostingClassifier"
      ],
      "metadata": {
        "id": "Q90R_zwyQ5rz"
      },
      "execution_count": null,
      "outputs": []
    },
    {
      "cell_type": "code",
      "source": [
        "model = GradientBoostingClassifier(n_estimators=100, learning_rate=0.1, max_depth=3, random_state=42)\n",
        "model.fit(x_train, y_train)"
      ],
      "metadata": {
        "id": "UabV-gWwQ8mB"
      },
      "execution_count": null,
      "outputs": []
    },
    {
      "cell_type": "code",
      "source": [
        "y_pred = model.predict(x_test)"
      ],
      "metadata": {
        "id": "RrhLhLS1RDYE"
      },
      "execution_count": null,
      "outputs": []
    },
    {
      "cell_type": "code",
      "source": [
        "cm = confusion_matrix(y_test,y_pred)\n",
        "plt.figure(figsize=(5,5))\n",
        "sns.heatmap(cm,annot = True, annot_kws = {\"size\":15})"
      ],
      "metadata": {
        "id": "csf1dCePRaRK"
      },
      "execution_count": null,
      "outputs": []
    },
    {
      "cell_type": "code",
      "source": [
        "print(\"Accuracy:\", accuracy_score(y_test, y_pred)*100)"
      ],
      "metadata": {
        "id": "rZvwiGNVRGDB"
      },
      "execution_count": null,
      "outputs": []
    },
    {
      "cell_type": "markdown",
      "source": [
        "# **SMOTE**"
      ],
      "metadata": {
        "id": "NLlZJn-ibaim"
      }
    },
    {
      "cell_type": "code",
      "source": [
        "from imblearn.over_sampling import SMOTE"
      ],
      "metadata": {
        "id": "YmfG9s8VaK1u"
      },
      "execution_count": null,
      "outputs": []
    },
    {
      "cell_type": "code",
      "source": [
        "x_resample, y_resample  = SMOTE(random_state=1).fit_resample(x, y.values.ravel())"
      ],
      "metadata": {
        "id": "HK8YNgJtgUM1"
      },
      "execution_count": null,
      "outputs": []
    },
    {
      "cell_type": "code",
      "source": [
        "print(x_resample.shape)\n",
        "print(y_resample.shape)"
      ],
      "metadata": {
        "id": "0g0R2t1zgmM2"
      },
      "execution_count": null,
      "outputs": []
    },
    {
      "cell_type": "code",
      "source": [
        "x_train_over, x_test_over, y_train_over, y_test_over = train_test_split(x,y,test_size = 0.3,random_state =1)"
      ],
      "metadata": {
        "id": "1M4bWBR0gzMf"
      },
      "execution_count": null,
      "outputs": []
    },
    {
      "cell_type": "code",
      "source": [
        "print(x_train_over.shape)\n",
        "print(y_train_over.shape)\n",
        "print(x_test_over.shape)\n",
        "print(y_test_over.shape)"
      ],
      "metadata": {
        "id": "UQGscfXYhFsX"
      },
      "execution_count": null,
      "outputs": []
    },
    {
      "cell_type": "code",
      "source": [
        "sc = StandardScaler()\n",
        "x_train_over = sc.fit_transform(x_train_over)\n",
        "x_test_over = sc.transform(x_test_over)"
      ],
      "metadata": {
        "id": "bIJG1ZDGhR3K"
      },
      "execution_count": null,
      "outputs": []
    },
    {
      "cell_type": "markdown",
      "source": [
        "# **SMOTE RandomForestClassifier**"
      ],
      "metadata": {
        "id": "DrtQHkVUhmx5"
      }
    },
    {
      "cell_type": "code",
      "source": [
        "model = RandomForestClassifier(n_estimators=200, random_state=1,verbose=0 )\n",
        "model.fit(x_train_over, y_train_over)"
      ],
      "metadata": {
        "id": "yO-M0bo5hmJQ"
      },
      "execution_count": null,
      "outputs": []
    },
    {
      "cell_type": "code",
      "source": [
        "y_pred = model.predict(x_test_over)\n",
        "print(\"Accuracy: \", model.score(x_test_over,y_test_over)*100)"
      ],
      "metadata": {
        "id": "YY9qIyd9h023"
      },
      "execution_count": null,
      "outputs": []
    },
    {
      "cell_type": "markdown",
      "source": [
        "# **SMOTE LogisticRegression**"
      ],
      "metadata": {
        "id": "kyEQh53VlCFq"
      }
    },
    {
      "cell_type": "code",
      "source": [
        "LR = LogisticRegression(random_state = 1)\n",
        "LR.fit(x_train_over, y_train_over)\n",
        "y_pred = LR.predict(x_test_over)"
      ],
      "metadata": {
        "id": "dmcHHJSjlNrk"
      },
      "execution_count": null,
      "outputs": []
    },
    {
      "cell_type": "code",
      "source": [
        "print('Accuracy: ',LR.score(x_test_over,y_test_over)*100)"
      ],
      "metadata": {
        "id": "CXI7llkilRcX"
      },
      "execution_count": null,
      "outputs": []
    }
  ]
}